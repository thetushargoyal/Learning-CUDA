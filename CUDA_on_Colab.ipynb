{
  "nbformat": 4,
  "nbformat_minor": 0,
  "metadata": {
    "colab": {
      "provenance": [],
      "gpuType": "T4",
      "authorship_tag": "ABX9TyNAsDqSNFzbZUc40QIpYIsA",
      "include_colab_link": true
    },
    "kernelspec": {
      "name": "python3",
      "display_name": "Python 3"
    },
    "language_info": {
      "name": "python"
    },
    "accelerator": "GPU"
  },
  "cells": [
    {
      "cell_type": "markdown",
      "metadata": {
        "id": "view-in-github",
        "colab_type": "text"
      },
      "source": [
        "<a href=\"https://colab.research.google.com/github/thetushargoyal/Learning-CUDA/blob/main/CUDA_on_Colab.ipynb\" target=\"_parent\"><img src=\"https://colab.research.google.com/assets/colab-badge.svg\" alt=\"Open In Colab\"/></a>"
      ]
    },
    {
      "cell_type": "code",
      "execution_count": null,
      "metadata": {
        "colab": {
          "base_uri": "https://localhost:8080/"
        },
        "id": "XygIyIJWm4BS",
        "outputId": "2a522e7d-c768-4051-e8fc-cd610f7c9426"
      },
      "outputs": [
        {
          "output_type": "stream",
          "name": "stdout",
          "text": [
            "nvcc: NVIDIA (R) Cuda compiler driver\n",
            "Copyright (c) 2005-2023 NVIDIA Corporation\n",
            "Built on Tue_Aug_15_22:02:13_PDT_2023\n",
            "Cuda compilation tools, release 12.2, V12.2.140\n",
            "Build cuda_12.2.r12.2/compiler.33191640_0\n",
            "Requirement already satisfied: nvcc4jupyter in /usr/local/lib/python3.10/dist-packages (1.2.1)\n"
          ]
        }
      ],
      "source": [
        "!nvcc --version\n",
        "!pip install nvcc4jupyter"
      ]
    },
    {
      "cell_type": "code",
      "source": [
        "%load_ext nvcc4jupyter"
      ],
      "metadata": {
        "colab": {
          "base_uri": "https://localhost:8080/"
        },
        "id": "1RMw_0wenHS-",
        "outputId": "d2625af5-abfa-4276-b29d-f645c951f77d"
      },
      "execution_count": null,
      "outputs": [
        {
          "output_type": "stream",
          "name": "stdout",
          "text": [
            "Detected platform \"Colab\". Running its setup...\n",
            "Source files will be saved in \"/tmp/tmpkjek01eu\".\n"
          ]
        }
      ]
    },
    {
      "cell_type": "code",
      "source": [
        "%%cuda\n",
        "#include <stdio.h>\n",
        "\n",
        "__global__ void hello(){\n",
        "    printf(\"Hello from block: %u, thread: %u\\n\", blockIdx.x, threadIdx.x);\n",
        "}\n",
        "\n",
        "int main(){\n",
        "    hello<<<2, 2>>>();\n",
        "    cudaDeviceSynchronize();\n",
        "}"
      ],
      "metadata": {
        "colab": {
          "base_uri": "https://localhost:8080/"
        },
        "id": "hlS59YUwncSf",
        "outputId": "bd82eee6-0335-42c7-9745-7c36ed1fbfae"
      },
      "execution_count": null,
      "outputs": [
        {
          "output_type": "stream",
          "name": "stdout",
          "text": [
            "Hello from block: 0, thread: 0\n",
            "Hello from block: 0, thread: 1\n",
            "Hello from block: 1, thread: 0\n",
            "Hello from block: 1, thread: 1\n",
            "\n"
          ]
        }
      ]
    },
    {
      "cell_type": "code",
      "source": [
        "%%cuda\n",
        "\n",
        "#include <stdio.h>\n",
        "#include <ctime>\n",
        "#include <cuda_runtime.h>\n",
        "\n",
        "__global__ void add(int* a, int* b, int* c) {\n",
        "    int i = threadIdx.x + blockDim.x * blockIdx.x;\n",
        "    c[i] = a[i] + b[i];\n",
        "}\n",
        "\n",
        "__managed__ int vector_a[10000000], vector_b[10000000], vector_c[10000000];\n",
        "\n",
        "void cpu_add(int* a, int* b, int* c, int size) {\n",
        "    for (int i = 0; i < size; i++) {\n",
        "        c[i] = a[i] + b[i];\n",
        "    }\n",
        "}\n",
        "\n",
        "int main() {\n",
        "    int size = 10000000; // Increased vector size\n",
        "\n",
        "    // Initialize vectors\n",
        "    for (int i = 0; i < size; i++) {\n",
        "        vector_a[i] = i;\n",
        "        vector_b[i] = size - i;\n",
        "        vector_c[i] = 0;\n",
        "    }\n",
        "\n",
        "    // Measure GPU time\n",
        "    cudaEvent_t start, stop;\n",
        "    cudaEventCreate(&start);\n",
        "    cudaEventCreate(&stop);\n",
        "\n",
        "    cudaEventRecord(start);\n",
        "    // Launch kernel with 4 blocks of 256 threads\n",
        "    add<<<4, 256>>>(vector_a, vector_b, vector_c);\n",
        "    cudaEventRecord(stop);\n",
        "\n",
        "    cudaEventSynchronize(stop);\n",
        "    float milliseconds = 0;\n",
        "    cudaEventElapsedTime(&milliseconds, start, stop);\n",
        "\n",
        "    // Print GPU result sum\n",
        "    int gpu_result_sum = 0;\n",
        "    for (int i = 0; i < size; i++) {\n",
        "        gpu_result_sum += vector_c[i];\n",
        "    }\n",
        "    printf(\"GPU Result = %d\\n\", gpu_result_sum);\n",
        "    printf(\"GPU Time = %f ms\\n\", milliseconds);\n",
        "\n",
        "    // Measure CPU time\n",
        "    clock_t cpu_start = clock();\n",
        "    cpu_add(vector_a, vector_b, vector_c, size);\n",
        "    clock_t cpu_end = clock();\n",
        "\n",
        "    double cpu_time = 1000.0 * (cpu_end - cpu_start) / CLOCKS_PER_SEC;\n",
        "\n",
        "    // Print CPU result sum\n",
        "    int cpu_result_sum = 0;\n",
        "    for (int i = 0; i < size; i++) {\n",
        "        cpu_result_sum += vector_c[i];\n",
        "    }\n",
        "    printf(\"CPU Result = %d\\n\", cpu_result_sum);\n",
        "    printf(\"CPU Time = %f ms\\n\", cpu_time);\n",
        "\n",
        "    // Cleanup\n",
        "    cudaEventDestroy(start);\n",
        "    cudaEventDestroy(stop);\n",
        "\n",
        "    return 0;\n",
        "}\n"
      ],
      "metadata": {
        "colab": {
          "base_uri": "https://localhost:8080/"
        },
        "id": "DsoEBFJ1orIB",
        "outputId": "5040f651-32a1-4c82-870b-0be2f8093fee"
      },
      "execution_count": null,
      "outputs": [
        {
          "output_type": "stream",
          "name": "stdout",
          "text": [
            "GPU Result = 1650065408\n",
            "GPU Time = 0.253952 ms\n",
            "CPU Result = 276447232\n",
            "CPU Time = 31.604000 ms\n",
            "\n"
          ]
        }
      ]
    }
  ]
}